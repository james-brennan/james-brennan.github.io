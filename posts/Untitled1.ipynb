{
 "cells": [
  {
   "cell_type": "markdown",
   "metadata": {},
   "source": [
    "## The laplace approximation\n",
    "\n",
    "\n",
    "The laplace approximation therefore turns the integration task primarily into an optimisation task -- once you have the mode and curvature of the posterior, the integration is quick.\n",
    "\n",
    "\n"
   ]
  },
  {
   "cell_type": "code",
   "execution_count": 1,
   "metadata": {},
   "outputs": [],
   "source": [
    "using Plots\n",
    "using Distributions"
   ]
  },
  {
   "cell_type": "code",
   "execution_count": 13,
   "metadata": {},
   "outputs": [
    {
     "data": {
      "image/svg+xml": [
       "<?xml version=\"1.0\" encoding=\"utf-8\"?>\n",
       "<svg xmlns=\"http://www.w3.org/2000/svg\" xmlns:xlink=\"http://www.w3.org/1999/xlink\" width=\"600\" height=\"400\" viewBox=\"0 0 2400 1600\">\n",
       "<defs>\n",
       "  <clipPath id=\"clip1600\">\n",
       "    <rect x=\"0\" y=\"0\" width=\"2400\" height=\"1600\"/>\n",
       "  </clipPath>\n",
       "</defs>\n",
       "<path clip-path=\"url(#clip1600)\" d=\"\n",
       "M0 1600 L2400 1600 L2400 0 L0 0  Z\n",
       "  \" fill=\"#ffffff\" fill-rule=\"evenodd\" fill-opacity=\"1\"/>\n",
       "<defs>\n",
       "  <clipPath id=\"clip1601\">\n",
       "    <rect x=\"480\" y=\"0\" width=\"1681\" height=\"1600\"/>\n",
       "  </clipPath>\n",
       "</defs>\n",
       "<path clip-path=\"url(#clip1600)\" d=\"\n",
       "M215.754 1425.62 L2352.76 1425.62 L2352.76 47.2441 L215.754 47.2441  Z\n",
       "  \" fill=\"#ffffff\" fill-rule=\"evenodd\" fill-opacity=\"1\"/>\n",
       "<defs>\n",
       "  <clipPath id=\"clip1602\">\n",
       "    <rect x=\"215\" y=\"47\" width=\"2138\" height=\"1379\"/>\n",
       "  </clipPath>\n",
       "</defs>\n",
       "<polyline clip-path=\"url(#clip1602)\" style=\"stroke:#000000; stroke-width:2; stroke-opacity:0.1; fill:none\" points=\"\n",
       "  276.235,1425.62 276.235,47.2441 \n",
       "  \"/>\n",
       "<polyline clip-path=\"url(#clip1602)\" style=\"stroke:#000000; stroke-width:2; stroke-opacity:0.1; fill:none\" points=\"\n",
       "  780.245,1425.62 780.245,47.2441 \n",
       "  \"/>\n",
       "<polyline clip-path=\"url(#clip1602)\" style=\"stroke:#000000; stroke-width:2; stroke-opacity:0.1; fill:none\" points=\"\n",
       "  1284.25,1425.62 1284.25,47.2441 \n",
       "  \"/>\n",
       "<polyline clip-path=\"url(#clip1602)\" style=\"stroke:#000000; stroke-width:2; stroke-opacity:0.1; fill:none\" points=\"\n",
       "  1788.26,1425.62 1788.26,47.2441 \n",
       "  \"/>\n",
       "<polyline clip-path=\"url(#clip1602)\" style=\"stroke:#000000; stroke-width:2; stroke-opacity:0.1; fill:none\" points=\"\n",
       "  2292.27,1425.62 2292.27,47.2441 \n",
       "  \"/>\n",
       "<polyline clip-path=\"url(#clip1602)\" style=\"stroke:#000000; stroke-width:2; stroke-opacity:0.1; fill:none\" points=\"\n",
       "  215.754,1386.61 2352.76,1386.61 \n",
       "  \"/>\n",
       "<polyline clip-path=\"url(#clip1602)\" style=\"stroke:#000000; stroke-width:2; stroke-opacity:0.1; fill:none\" points=\"\n",
       "  215.754,1154.63 2352.76,1154.63 \n",
       "  \"/>\n",
       "<polyline clip-path=\"url(#clip1602)\" style=\"stroke:#000000; stroke-width:2; stroke-opacity:0.1; fill:none\" points=\"\n",
       "  215.754,922.657 2352.76,922.657 \n",
       "  \"/>\n",
       "<polyline clip-path=\"url(#clip1602)\" style=\"stroke:#000000; stroke-width:2; stroke-opacity:0.1; fill:none\" points=\"\n",
       "  215.754,690.682 2352.76,690.682 \n",
       "  \"/>\n",
       "<polyline clip-path=\"url(#clip1602)\" style=\"stroke:#000000; stroke-width:2; stroke-opacity:0.1; fill:none\" points=\"\n",
       "  215.754,458.706 2352.76,458.706 \n",
       "  \"/>\n",
       "<polyline clip-path=\"url(#clip1602)\" style=\"stroke:#000000; stroke-width:2; stroke-opacity:0.1; fill:none\" points=\"\n",
       "  215.754,226.731 2352.76,226.731 \n",
       "  \"/>\n",
       "<polyline clip-path=\"url(#clip1600)\" style=\"stroke:#000000; stroke-width:4; stroke-opacity:1; fill:none\" points=\"\n",
       "  215.754,1425.62 2352.76,1425.62 \n",
       "  \"/>\n",
       "<polyline clip-path=\"url(#clip1600)\" style=\"stroke:#000000; stroke-width:4; stroke-opacity:1; fill:none\" points=\"\n",
       "  215.754,1425.62 215.754,47.2441 \n",
       "  \"/>\n",
       "<polyline clip-path=\"url(#clip1600)\" style=\"stroke:#000000; stroke-width:4; stroke-opacity:1; fill:none\" points=\"\n",
       "  276.235,1425.62 276.235,1409.08 \n",
       "  \"/>\n",
       "<polyline clip-path=\"url(#clip1600)\" style=\"stroke:#000000; stroke-width:4; stroke-opacity:1; fill:none\" points=\"\n",
       "  780.245,1425.62 780.245,1409.08 \n",
       "  \"/>\n",
       "<polyline clip-path=\"url(#clip1600)\" style=\"stroke:#000000; stroke-width:4; stroke-opacity:1; fill:none\" points=\"\n",
       "  1284.25,1425.62 1284.25,1409.08 \n",
       "  \"/>\n",
       "<polyline clip-path=\"url(#clip1600)\" style=\"stroke:#000000; stroke-width:4; stroke-opacity:1; fill:none\" points=\"\n",
       "  1788.26,1425.62 1788.26,1409.08 \n",
       "  \"/>\n",
       "<polyline clip-path=\"url(#clip1600)\" style=\"stroke:#000000; stroke-width:4; stroke-opacity:1; fill:none\" points=\"\n",
       "  2292.27,1425.62 2292.27,1409.08 \n",
       "  \"/>\n",
       "<polyline clip-path=\"url(#clip1600)\" style=\"stroke:#000000; stroke-width:4; stroke-opacity:1; fill:none\" points=\"\n",
       "  215.754,1386.61 241.398,1386.61 \n",
       "  \"/>\n",
       "<polyline clip-path=\"url(#clip1600)\" style=\"stroke:#000000; stroke-width:4; stroke-opacity:1; fill:none\" points=\"\n",
       "  215.754,1154.63 241.398,1154.63 \n",
       "  \"/>\n",
       "<polyline clip-path=\"url(#clip1600)\" style=\"stroke:#000000; stroke-width:4; stroke-opacity:1; fill:none\" points=\"\n",
       "  215.754,922.657 241.398,922.657 \n",
       "  \"/>\n",
       "<polyline clip-path=\"url(#clip1600)\" style=\"stroke:#000000; stroke-width:4; stroke-opacity:1; fill:none\" points=\"\n",
       "  215.754,690.682 241.398,690.682 \n",
       "  \"/>\n",
       "<polyline clip-path=\"url(#clip1600)\" style=\"stroke:#000000; stroke-width:4; stroke-opacity:1; fill:none\" points=\"\n",
       "  215.754,458.706 241.398,458.706 \n",
       "  \"/>\n",
       "<polyline clip-path=\"url(#clip1600)\" style=\"stroke:#000000; stroke-width:4; stroke-opacity:1; fill:none\" points=\"\n",
       "  215.754,226.731 241.398,226.731 \n",
       "  \"/>\n",
       "<g clip-path=\"url(#clip1600)\">\n",
       "<text style=\"fill:#000000; fill-opacity:1; font-family:Arial,Helvetica Neue,Helvetica,sans-serif; font-size:48px; text-anchor:middle;\" transform=\"rotate(0, 276.235, 1479.62)\" x=\"276.235\" y=\"1479.62\">0.00</text>\n",
       "</g>\n",
       "<g clip-path=\"url(#clip1600)\">\n",
       "<text style=\"fill:#000000; fill-opacity:1; font-family:Arial,Helvetica Neue,Helvetica,sans-serif; font-size:48px; text-anchor:middle;\" transform=\"rotate(0, 780.245, 1479.62)\" x=\"780.245\" y=\"1479.62\">0.25</text>\n",
       "</g>\n",
       "<g clip-path=\"url(#clip1600)\">\n",
       "<text style=\"fill:#000000; fill-opacity:1; font-family:Arial,Helvetica Neue,Helvetica,sans-serif; font-size:48px; text-anchor:middle;\" transform=\"rotate(0, 1284.25, 1479.62)\" x=\"1284.25\" y=\"1479.62\">0.50</text>\n",
       "</g>\n",
       "<g clip-path=\"url(#clip1600)\">\n",
       "<text style=\"fill:#000000; fill-opacity:1; font-family:Arial,Helvetica Neue,Helvetica,sans-serif; font-size:48px; text-anchor:middle;\" transform=\"rotate(0, 1788.26, 1479.62)\" x=\"1788.26\" y=\"1479.62\">0.75</text>\n",
       "</g>\n",
       "<g clip-path=\"url(#clip1600)\">\n",
       "<text style=\"fill:#000000; fill-opacity:1; font-family:Arial,Helvetica Neue,Helvetica,sans-serif; font-size:48px; text-anchor:middle;\" transform=\"rotate(0, 2292.27, 1479.62)\" x=\"2292.27\" y=\"1479.62\">1.00</text>\n",
       "</g>\n",
       "<g clip-path=\"url(#clip1600)\">\n",
       "<text style=\"fill:#000000; fill-opacity:1; font-family:Arial,Helvetica Neue,Helvetica,sans-serif; font-size:48px; text-anchor:end;\" transform=\"rotate(0, 191.754, 1404.11)\" x=\"191.754\" y=\"1404.11\">0.0</text>\n",
       "</g>\n",
       "<g clip-path=\"url(#clip1600)\">\n",
       "<text style=\"fill:#000000; fill-opacity:1; font-family:Arial,Helvetica Neue,Helvetica,sans-serif; font-size:48px; text-anchor:end;\" transform=\"rotate(0, 191.754, 1172.13)\" x=\"191.754\" y=\"1172.13\">0.5</text>\n",
       "</g>\n",
       "<g clip-path=\"url(#clip1600)\">\n",
       "<text style=\"fill:#000000; fill-opacity:1; font-family:Arial,Helvetica Neue,Helvetica,sans-serif; font-size:48px; text-anchor:end;\" transform=\"rotate(0, 191.754, 940.157)\" x=\"191.754\" y=\"940.157\">1.0</text>\n",
       "</g>\n",
       "<g clip-path=\"url(#clip1600)\">\n",
       "<text style=\"fill:#000000; fill-opacity:1; font-family:Arial,Helvetica Neue,Helvetica,sans-serif; font-size:48px; text-anchor:end;\" transform=\"rotate(0, 191.754, 708.182)\" x=\"191.754\" y=\"708.182\">1.5</text>\n",
       "</g>\n",
       "<g clip-path=\"url(#clip1600)\">\n",
       "<text style=\"fill:#000000; fill-opacity:1; font-family:Arial,Helvetica Neue,Helvetica,sans-serif; font-size:48px; text-anchor:end;\" transform=\"rotate(0, 191.754, 476.206)\" x=\"191.754\" y=\"476.206\">2.0</text>\n",
       "</g>\n",
       "<g clip-path=\"url(#clip1600)\">\n",
       "<text style=\"fill:#000000; fill-opacity:1; font-family:Arial,Helvetica Neue,Helvetica,sans-serif; font-size:48px; text-anchor:end;\" transform=\"rotate(0, 191.754, 244.231)\" x=\"191.754\" y=\"244.231\">2.5</text>\n",
       "</g>\n",
       "<g clip-path=\"url(#clip1600)\">\n",
       "<text style=\"fill:#000000; fill-opacity:1; font-family:Arial,Helvetica Neue,Helvetica,sans-serif; font-size:66px; text-anchor:middle;\" transform=\"rotate(0, 1284.25, 1559.48)\" x=\"1284.25\" y=\"1559.48\">t</text>\n",
       "</g>\n",
       "<g clip-path=\"url(#clip1600)\">\n",
       "<text style=\"fill:#000000; fill-opacity:1; font-family:Arial,Helvetica Neue,Helvetica,sans-serif; font-size:66px; text-anchor:middle;\" transform=\"rotate(-90, 89.2861, 736.431)\" x=\"89.2861\" y=\"736.431\">density</text>\n",
       "</g>\n",
       "<polyline clip-path=\"url(#clip1602)\" style=\"stroke:#009af9; stroke-width:8; stroke-opacity:1; fill:none\" points=\"\n",
       "  276.235,1386.61 296.599,1375.38 316.963,1344.39 337.327,1297.35 357.691,1237.59 378.055,1168.08 398.419,1091.49 418.784,1010.15 439.148,926.119 459.512,841.188 \n",
       "  479.876,756.912 500.24,674.62 520.604,595.439 540.968,520.308 561.332,449.994 581.696,385.112 602.06,326.135 622.424,273.411 642.788,227.174 663.152,187.556 \n",
       "  683.516,154.6 703.88,128.27 724.244,108.461 744.608,95.0073 764.972,87.6919 785.336,86.2547 805.7,90.3994 826.064,99.8006 846.428,114.11 866.792,132.961 \n",
       "  887.156,155.976 907.52,182.77 927.884,212.955 948.248,246.142 968.612,281.947 988.976,319.995 1009.34,359.918 1029.7,401.362 1050.07,443.987 1070.43,487.467 \n",
       "  1090.8,531.496 1111.16,575.784 1131.52,620.061 1151.89,664.078 1172.25,707.604 1192.62,750.43 1212.98,792.368 1233.34,833.249 1253.71,872.926 1274.07,911.269 \n",
       "  1294.44,948.171 1314.8,983.54 1335.17,1017.3 1355.53,1049.41 1375.89,1079.81 1396.26,1108.49 1416.62,1135.43 1436.99,1160.65 1457.35,1184.14 1477.71,1205.95 \n",
       "  1498.08,1226.11 1518.44,1244.65 1538.81,1261.64 1559.17,1277.14 1579.53,1291.21 1599.9,1303.91 1620.26,1315.33 1640.63,1325.54 1660.99,1334.61 1681.35,1342.63 \n",
       "  1701.72,1349.68 1722.08,1355.83 1742.45,1361.16 1762.81,1365.75 1783.17,1369.67 1803.54,1372.99 1823.9,1375.77 1844.27,1378.09 1864.63,1380 1884.99,1381.55 \n",
       "  1905.36,1382.79 1925.72,1383.78 1946.09,1384.55 1966.45,1385.14 1986.81,1385.59 2007.18,1385.92 2027.54,1386.16 2047.91,1386.32 2068.27,1386.43 2088.63,1386.51 \n",
       "  2109,1386.55 2129.36,1386.58 2149.73,1386.6 2170.09,1386.6 2190.45,1386.61 2210.82,1386.61 2231.18,1386.61 2251.55,1386.61 2271.91,1386.61 2292.27,1386.61 \n",
       "  \n",
       "  \"/>\n",
       "<polyline clip-path=\"url(#clip1602)\" style=\"stroke:#e26f46; stroke-width:8; stroke-opacity:1; fill:none\" points=\"\n",
       "  276.235,1386.61 296.599,1386.57 316.963,1386.31 337.327,1385.66 357.691,1384.47 378.055,1382.62 398.419,1380.03 418.784,1376.64 439.148,1372.42 459.512,1367.34 \n",
       "  479.876,1361.4 500.24,1354.62 520.604,1347.03 540.968,1338.65 561.332,1329.54 581.696,1319.75 602.06,1309.33 622.424,1298.35 642.788,1286.86 663.152,1274.95 \n",
       "  683.516,1262.66 703.88,1250.08 724.244,1237.26 744.608,1224.28 764.972,1211.19 785.336,1198.06 805.7,1184.94 826.064,1171.89 846.428,1158.96 866.792,1146.2 \n",
       "  887.156,1133.65 907.52,1121.35 927.884,1109.34 948.248,1097.65 968.612,1086.31 988.976,1075.34 1009.34,1064.77 1029.7,1054.6 1050.07,1044.87 1070.43,1035.56 \n",
       "  1090.8,1026.7 1111.16,1018.29 1131.52,1010.32 1151.89,1002.8 1172.25,995.726 1192.62,989.084 1212.98,982.871 1233.34,977.076 1253.71,971.688 1274.07,966.694 \n",
       "  1294.44,962.08 1314.8,957.831 1335.17,953.932 1355.53,950.365 1375.89,947.114 1396.26,944.161 1416.62,941.489 1436.99,939.081 1457.35,936.919 1477.71,934.985 \n",
       "  1498.08,933.263 1518.44,931.737 1538.81,930.39 1559.17,929.208 1579.53,928.174 1599.9,927.276 1620.26,926.499 1640.63,925.832 1660.99,925.262 1681.35,924.778 \n",
       "  1701.72,924.37 1722.08,924.029 1742.45,923.745 1762.81,923.512 1783.17,923.322 1803.54,923.168 1823.9,923.045 1844.27,922.947 1864.63,922.871 1884.99,922.813 \n",
       "  1905.36,922.768 1925.72,922.735 1946.09,922.71 1966.45,922.693 1986.81,922.68 2007.18,922.672 2027.54,922.666 2047.91,922.662 2068.27,922.66 2088.63,922.659 \n",
       "  2109,922.658 2129.36,922.657 2149.73,922.657 2170.09,922.657 2190.45,922.657 2210.82,922.657 2231.18,922.657 2251.55,922.657 2271.91,922.657 2292.27,922.657 \n",
       "  \n",
       "  \"/>\n",
       "</svg>\n"
      ]
     },
     "execution_count": 13,
     "metadata": {},
     "output_type": "execute_result"
    }
   ],
   "source": [
    "t = LinRange(0, 1,100)\n",
    "p = Distributions.Beta(3,7)\n",
    "plot(t, pdf.(p, t), lw=2, xlabel=\"t\", ylabel=\"density\", legend=false)\n",
    "plot!(t, cdf.(p, t), lw=2, xlabel=\"t\", ylabel=\"density\", legend=false)"
   ]
  },
  {
   "cell_type": "code",
   "execution_count": 20,
   "metadata": {},
   "outputs": [
    {
     "ename": "MethodError",
     "evalue": "MethodError: no method matching *(::Normal{Float64}, ::Gamma{Float64})\nClosest candidates are:\n  *(::Any, ::Any, !Matched::Any, !Matched::Any...) at operators.jl:502",
     "output_type": "error",
     "traceback": [
      "MethodError: no method matching *(::Normal{Float64}, ::Gamma{Float64})\nClosest candidates are:\n  *(::Any, ::Any, !Matched::Any, !Matched::Any...) at operators.jl:502",
      "",
      "Stacktrace:",
      " [1] top-level scope at In[20]:3"
     ]
    }
   ],
   "source": [
    "n = Normal(0, 1)\n",
    "g = Gamma(2, 3)\n"
   ]
  },
  {
   "cell_type": "code",
   "execution_count": 28,
   "metadata": {},
   "outputs": [
    {
     "data": {
      "text/plain": [
       "meshgrid (generic function with 1 method)"
      ]
     },
     "execution_count": 28,
     "metadata": {},
     "output_type": "execute_result"
    }
   ],
   "source": [
    "meshgrid(x, y) = (repeat(x, outer=length(y)), repeat(y, inner=length(x)))"
   ]
  },
  {
   "cell_type": "code",
   "execution_count": 39,
   "metadata": {},
   "outputs": [
    {
     "data": {
      "text/plain": [
       "([1.0, 1.0404, 1.08081, 1.12121, 1.16162, 1.20202, 1.24242, 1.28283, 1.32323, 1.36364  …  4.63636, 4.67677, 4.71717, 4.75758, 4.79798, 4.83838, 4.87879, 4.91919, 4.9596, 5.0], [1.0, 1.0, 1.0, 1.0, 1.0, 1.0, 1.0, 1.0, 1.0, 1.0  …  5.0, 5.0, 5.0, 5.0, 5.0, 5.0, 5.0, 5.0, 5.0, 5.0])"
      ]
     },
     "execution_count": 39,
     "metadata": {},
     "output_type": "execute_result"
    }
   ],
   "source": [
    "gridd = meshgrid(LinRange(1, 5, 100), LinRange(1, 5, 100))"
   ]
  },
  {
   "cell_type": "code",
   "execution_count": 40,
   "metadata": {},
   "outputs": [
    {
     "data": {
      "text/plain": [
       "([1.0, 1.0404, 1.08081, 1.12121, 1.16162, 1.20202, 1.24242, 1.28283, 1.32323, 1.36364  …  4.63636, 4.67677, 4.71717, 4.75758, 4.79798, 4.83838, 4.87879, 4.91919, 4.9596, 5.0], [1.0, 1.0, 1.0, 1.0, 1.0, 1.0, 1.0, 1.0, 1.0, 1.0  …  5.0, 5.0, 5.0, 5.0, 5.0, 5.0, 5.0, 5.0, 5.0, 5.0])"
      ]
     },
     "execution_count": 40,
     "metadata": {},
     "output_type": "execute_result"
    }
   ],
   "source": [
    "gridd"
   ]
  },
  {
   "cell_type": "code",
   "execution_count": 41,
   "metadata": {},
   "outputs": [
    {
     "name": "stderr",
     "output_type": "stream",
     "text": [
      "┌ Warning: `pdf(d::UnivariateDistribution, X::AbstractArray)` is deprecated, use `pdf.(d, X)` instead.\n",
      "│   caller = _broadcast_getindex_evalf at broadcast.jl:574 [inlined]\n",
      "└ @ Core ./broadcast.jl:574\n",
      "┌ Warning: `pdf(d::UnivariateDistribution, X::AbstractArray)` is deprecated, use `pdf.(d, X)` instead.\n",
      "│   caller = _broadcast_getindex_evalf at broadcast.jl:574 [inlined]\n",
      "└ @ Core ./broadcast.jl:574\n",
      "┌ Warning: `pdf(d::UnivariateDistribution, X::AbstractArray)` is deprecated, use `pdf.(d, X)` instead.\n",
      "│   caller = _broadcast_getindex_evalf at broadcast.jl:574 [inlined]\n",
      "└ @ Core ./broadcast.jl:574\n",
      "┌ Warning: `pdf(d::UnivariateDistribution, X::AbstractArray)` is deprecated, use `pdf.(d, X)` instead.\n",
      "│   caller = _broadcast_getindex_evalf at broadcast.jl:574 [inlined]\n",
      "└ @ Core ./broadcast.jl:574\n"
     ]
    },
    {
     "ename": "MethodError",
     "evalue": "MethodError: no method matching *(::Tuple{Array{Float64,1},Array{Float64,1}}, ::Tuple{Array{Float64,1},Array{Float64,1}})\nClosest candidates are:\n  *(::Any, ::Any, !Matched::Any, !Matched::Any...) at operators.jl:502",
     "output_type": "error",
     "traceback": [
      "MethodError: no method matching *(::Tuple{Array{Float64,1},Array{Float64,1}}, ::Tuple{Array{Float64,1},Array{Float64,1}})\nClosest candidates are:\n  *(::Any, ::Any, !Matched::Any, !Matched::Any...) at operators.jl:502",
      "",
      "Stacktrace:",
      " [1] top-level scope at In[41]:1"
     ]
    }
   ],
   "source": [
    "png = pdf.(n, gridd) * pdf.(g, gridd)"
   ]
  },
  {
   "cell_type": "code",
   "execution_count": null,
   "metadata": {},
   "outputs": [],
   "source": []
  },
  {
   "cell_type": "code",
   "execution_count": 44,
   "metadata": {},
   "outputs": [
    {
     "ename": "MethodError",
     "evalue": "MethodError: no method matching *(::Tuple{Array{Float64,1},Array{Float64,1}}, ::Tuple{Array{Float64,1},Array{Float64,1}})\nClosest candidates are:\n  *(::Any, ::Any, !Matched::Any, !Matched::Any...) at operators.jl:502",
     "output_type": "error",
     "traceback": [
      "MethodError: no method matching *(::Tuple{Array{Float64,1},Array{Float64,1}}, ::Tuple{Array{Float64,1},Array{Float64,1}})\nClosest candidates are:\n  *(::Any, ::Any, !Matched::Any, !Matched::Any...) at operators.jl:502",
      "",
      "Stacktrace:",
      " [1] top-level scope at In[44]:1"
     ]
    }
   ],
   "source": [
    " pdf.(n, gridd) * pdf.(g, gridd)"
   ]
  },
  {
   "cell_type": "code",
   "execution_count": 15,
   "metadata": {},
   "outputs": [
    {
     "data": {
      "text/plain": [
       "0.13816985594155148"
      ]
     },
     "execution_count": 15,
     "metadata": {},
     "output_type": "execute_result"
    }
   ],
   "source": [
    "x₀= mode(p)\n",
    "σ = std(p)"
   ]
  },
  {
   "cell_type": "code",
   "execution_count": 18,
   "metadata": {},
   "outputs": [
    {
     "data": {
      "text/plain": [
       "laplace (generic function with 1 method)"
      ]
     },
     "execution_count": 18,
     "metadata": {},
     "output_type": "execute_result"
    }
   ],
   "source": [
    "laplace(x, mode, sigma) = sigma"
   ]
  },
  {
   "cell_type": "markdown",
   "metadata": {},
   "source": [
    "Of course generally we're not going to have nice analytic expressions for real problems where a Laplace approximation might be needed.\n",
    "--> autodiff etc"
   ]
  },
  {
   "cell_type": "code",
   "execution_count": 31,
   "metadata": {},
   "outputs": [
    {
     "data": {
      "text/plain": [
       "100-element Array{Float64,1}:\n",
       " 0.0                 \n",
       " 0.053543344524692234\n",
       " 0.06910196707533311 \n",
       " 0.08051885781605697 \n",
       " 0.08993604202742109 \n",
       " 0.09813460410449742 \n",
       " 0.10549949174556657 \n",
       " 0.11225261317242197 \n",
       " 0.11853511198199193 \n",
       " 0.12444308630639796 \n",
       " 0.13004532995284124 \n",
       " 0.13539302871903572 \n",
       " 0.14052545506170017 \n",
       " ⋮                   \n",
       " 0.4800311708197894  \n",
       " 0.4891352960803207  \n",
       " 0.49892240046372227 \n",
       " 0.5095383186745883  \n",
       " 0.5211831709184991  \n",
       " 0.5341430770521625  \n",
       " 0.5488495847882219  \n",
       " 0.5660027210595144  \n",
       " 0.5868642745573024  \n",
       " 0.6141263607212257  \n",
       " 0.6557521754983626  \n",
       " 1.0                 "
      ]
     },
     "execution_count": 31,
     "metadata": {},
     "output_type": "execute_result"
    }
   ],
   "source": [
    "quantile.(p, t)"
   ]
  },
  {
   "cell_type": "code",
   "execution_count": null,
   "metadata": {},
   "outputs": [],
   "source": []
  }
 ],
 "metadata": {
  "kernelspec": {
   "display_name": "Julia 1.0.0",
   "language": "julia",
   "name": "julia-1.0"
  },
  "language_info": {
   "file_extension": ".jl",
   "mimetype": "application/julia",
   "name": "julia",
   "version": "1.0.0"
  }
 },
 "nbformat": 4,
 "nbformat_minor": 4
}
